{
  "nbformat": 4,
  "nbformat_minor": 0,
  "metadata": {
    "colab": {
      "name": "Arithmetic Operators (GitHub).ipynb",
      "provenance": [],
      "authorship_tag": "ABX9TyMyaY7ZLQQjaVWtNsVHRkmo",
      "include_colab_link": true
    },
    "kernelspec": {
      "name": "python3",
      "display_name": "Python 3"
    }
  },
  "cells": [
    {
      "cell_type": "markdown",
      "metadata": {
        "id": "view-in-github",
        "colab_type": "text"
      },
      "source": [
        "<a href=\"https://colab.research.google.com/github/ShivanshGupta1/Arithmetic-Operators/blob/main/Arithmetic_Operators_(GitHub).ipynb\" target=\"_parent\"><img src=\"https://colab.research.google.com/assets/colab-badge.svg\" alt=\"Open In Colab\"/></a>"
      ]
    },
    {
      "cell_type": "code",
      "metadata": {
        "id": "jYwvYDEoup9k"
      },
      "source": [
        "print(60.5+80.7)\n",
        "print(3-2)\n",
        "print(5*10)\n",
        "print(22/7)"
      ],
      "execution_count": null,
      "outputs": []
    },
    {
      "cell_type": "code",
      "metadata": {
        "id": "XFnnK6mquzTI"
      },
      "source": [
        "a = int(input('Pleae enter your first number'))#This input function helps take input from users!\n",
        "b = int(input('Pleae enter your second number'))\n",
        "print(a+b)\n",
        "print(a-b)\n",
        "print(a*b)\n",
        "print(a/b)"
      ],
      "execution_count": null,
      "outputs": []
    },
    {
      "cell_type": "code",
      "metadata": {
        "id": "gFRXR1GYu4ls"
      },
      "source": [
        "a = 18\n",
        "b = 7\n",
        "print(a%b) "
      ],
      "execution_count": null,
      "outputs": []
    },
    {
      "cell_type": "code",
      "metadata": {
        "id": "Wc6-6Ihku5yJ"
      },
      "source": [
        "a = 9\n",
        "b = 4\n",
        "print(a//b)"
      ],
      "execution_count": null,
      "outputs": []
    },
    {
      "cell_type": "code",
      "metadata": {
        "id": "HK27ayccvBBa"
      },
      "source": [
        "a = int(input('2 Digit Number'))\n",
        "b = a//10 # 4//10\n",
        "a = a%10 # a = 4\n",
        "print(a+b)"
      ],
      "execution_count": null,
      "outputs": []
    },
    {
      "cell_type": "code",
      "metadata": {
        "id": "Zl6tdEPxvC25"
      },
      "source": [
        "a = 9\n",
        "b = 6\n",
        "print(a**b)"
      ],
      "execution_count": null,
      "outputs": []
    },
    {
      "cell_type": "code",
      "metadata": {
        "id": "1Oz17uCmvEJz"
      },
      "source": [
        "a = 9\n",
        "b = 2\n",
        "print(a**1/b)"
      ],
      "execution_count": null,
      "outputs": []
    },
    {
      "cell_type": "code",
      "metadata": {
        "id": "2PiH46JmvFq6"
      },
      "source": [
        "a = int(input('Please write the number of seconds you wish to be converted'))\n",
        "print(a//60,'minutes', a%60,'seconds')\n"
      ],
      "execution_count": null,
      "outputs": []
    }
  ]
}